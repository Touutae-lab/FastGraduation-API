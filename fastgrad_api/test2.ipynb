{
 "cells": [
  {
   "cell_type": "code",
   "execution_count": 2,
   "metadata": {},
   "outputs": [
    {
     "name": "stdout",
     "output_type": "stream",
     "text": [
      "Collecting mysql-connector-python\n",
      "  Downloading mysql_connector_python-8.0.30-cp37-cp37m-win_amd64.whl (7.8 MB)\n",
      "Collecting protobuf<=3.20.1,>=3.11.0\n",
      "  Downloading protobuf-3.20.1-cp37-cp37m-win_amd64.whl (905 kB)\n",
      "Installing collected packages: protobuf, mysql-connector-python\n",
      "Successfully installed mysql-connector-python-8.0.30 protobuf-3.20.1\n",
      "Note: you may need to restart the kernel to use updated packages.\n"
     ]
    },
    {
     "name": "stderr",
     "output_type": "stream",
     "text": [
      "WARNING: You are using pip version 20.1.1; however, version 22.2.2 is available.\n",
      "You should consider upgrading via the 'c:\\Users\\ASUS\\AppData\\Local\\Programs\\Python\\Python37\\python.exe -m pip install --upgrade pip' command.\n"
     ]
    }
   ],
   "source": [
    "%pip install mysql-connector-python"
   ]
  },
  {
   "cell_type": "code",
   "execution_count": 3,
   "metadata": {},
   "outputs": [
    {
     "data": {
      "text/plain": [
       "[(204113,),\n",
       " (204114,),\n",
       " (204203,),\n",
       " (204211,),\n",
       " (204212,),\n",
       " (204231,),\n",
       " (204232,),\n",
       " (204251,),\n",
       " (204252,),\n",
       " (204271,),\n",
       " (204306,),\n",
       " (204315,),\n",
       " (204321,),\n",
       " (204341,),\n",
       " (204361,),\n",
       " (204362,),\n",
       " (204390,),\n",
       " (204451,),\n",
       " (204490,)]"
      ]
     },
     "execution_count": 3,
     "metadata": {},
     "output_type": "execute_result"
    }
   ],
   "source": [
    "mydb = mysql.connector.connect(\n",
    "  host=\"localhost\",\n",
    "  user=\"root\",\n",
    "  password=\"EUWO321093721jsahejwabne132145!@\",\n",
    "  database=\"fastgrad\",\n",
    "  \n",
    ")\n",
    "mycursor = mydb.cursor()\n",
    "student_id=630510111\n",
    "\n",
    "Find_Missing_Compulsory_Courses ='''SELECT course_id FROM default_course_category \n",
    "      WHERE category_id=5 AND course_id NOT IN (\n",
    "      SELECT course_id FROM enrollment WHERE student_id = %s AND category_id=5) \n",
    "''' ##Find_Missing_Compulsory_Courses\n",
    "mycursor.execute(Find_Missing_Compulsory_Courses,(student_id,))\n",
    "CC_result = mycursor.fetchall()\n",
    "CC_result\n",
    "\n",
    "\n"
   ]
  },
  {
   "cell_type": "code",
   "execution_count": 6,
   "metadata": {},
   "outputs": [
    {
     "name": "stdout",
     "output_type": "stream",
     "text": [
      "         0\n",
      "0   204113\n",
      "1   204114\n",
      "2   204203\n",
      "3   204211\n",
      "4   204212\n",
      "5   204231\n",
      "6   204232\n",
      "7   204251\n",
      "8   204252\n",
      "9   204271\n",
      "10  204306\n",
      "11  204315\n",
      "12  204321\n",
      "13  204341\n",
      "14  204361\n",
      "15  204362\n",
      "16  204390\n",
      "17  204451\n",
      "18  204490\n"
     ]
    }
   ],
   "source": [
    "CC = pd.DataFrame(CC_result)\n",
    "print(CC)"
   ]
  },
  {
   "cell_type": "code",
   "execution_count": 7,
   "metadata": {},
   "outputs": [
    {
     "name": "stdout",
     "output_type": "stream",
     "text": [
      "1\n"
     ]
    }
   ],
   "source": [
    "print(GE)"
   ]
  },
  {
   "cell_type": "code",
   "execution_count": 8,
   "metadata": {},
   "outputs": [
    {
     "name": "stdout",
     "output_type": "stream",
     "text": [
      "0\n"
     ]
    }
   ],
   "source": [
    "print(FE)"
   ]
  },
  {
   "cell_type": "markdown",
   "metadata": {},
   "source": [
    "ทุกเทอมมี22หน่วยกิต ไพออน 1)ตัวเมอเจอร์ 2)บังคับ 3)eng 4)GE 5)FE\n"
   ]
  },
  {
   "cell_type": "code",
   "execution_count": 75,
   "metadata": {},
   "outputs": [
    {
     "data": {
      "text/plain": [
       "(204423, 204451, 204452, 204453, 204456, 204471, 204482)"
      ]
     },
     "execution_count": 75,
     "metadata": {},
     "output_type": "execute_result"
    }
   ],
   "source": [
    "Course_recommend()"
   ]
  },
  {
   "cell_type": "code",
   "execution_count": 71,
   "metadata": {},
   "outputs": [],
   "source": [
    "\n",
    "import mysql.connector\n",
    "mydb = mysql.connector.connect(\n",
    "  host=\"localhost\",\n",
    "  user=\"root\",\n",
    "  password=\"EUWO321093721jsahejwabne132145!@\",\n",
    "  database=\"fastgrad\",\n",
    "  \n",
    ")\n",
    "mycursor = mydb.cursor()\n",
    "student_id=630510111"
   ]
  },
  {
   "cell_type": "code",
   "execution_count": 70,
   "metadata": {},
   "outputs": [],
   "source": [
    "from hashlib import new\n",
    "from turtle import st\n",
    "\n",
    "\n",
    "def Course_recommend():\n",
    "    \n",
    "    student_info = update_term(GET_students_info(student_id))\n",
    " \n",
    "    studied = '''SELECT course_id FROM `enrollment` WHERE student_id=%s''' #หาวิชาที่เรียนแล้วทั้งหมดไป้ป็นlist\n",
    "    mycursor.execute(studied,(student_id,))\n",
    "    studied = mycursor.fetchall()\n",
    "    all_studied = datatotuple(studied)\n",
    "    result= find_by_term(all_studied)\n",
    "    #result = findGroup(result,all_studied)\n",
    "        \n",
    "    return result\n",
    "\n",
    "\n"
   ]
  },
  {
   "cell_type": "code",
   "execution_count": 72,
   "metadata": {},
   "outputs": [],
   "source": [
    "''''\n",
    "GET Student 's Info DIC Function\n",
    "plan = study's plan\n",
    "Term = lastest term\n",
    "year = lastest year\n",
    "################\n",
    "'''\n",
    "student_info={}\n",
    "def GET_students_info(student_id):\n",
    "    term_check ='''SELECT MAX(enrollment.year), MAX(term) ,academic_year FROM `enrollment`,student WHERE enrollment.student_id =%s AND enrollment.student_id=student.student_id '''\n",
    "    mycursor.execute(term_check,(student_id,))\n",
    "    term_result = mycursor.fetchall()   \n",
    "\n",
    "\n",
    "    plan = '''SELECT id FROM `program` WHERE end_year>={0} and {0}>=start_year'''.format(term_result[0][2])\n",
    "    mycursor.execute(plan)\n",
    "    plan_id= mycursor.fetchall()   \n",
    "\n",
    "\n",
    "\n",
    "    student_info['plan']=plan_id[0][0]\n",
    "    student_info['term']=term_result[0][1]\n",
    "    student_info['year']=term_result[0][0]\n",
    "    return student_info"
   ]
  },
  {
   "cell_type": "code",
   "execution_count": 73,
   "metadata": {},
   "outputs": [],
   "source": [
    "def update_term(student_info):\n",
    "    if student_info['term']==1: \n",
    "        student_info.update({'term': 2})\n",
    "    elif student_info['term']==2:\n",
    "        student_info.update({'term': 1})\n",
    "        student_info['year']+=1\n",
    "    return student_info"
   ]
  },
  {
   "cell_type": "code",
   "execution_count": 74,
   "metadata": {},
   "outputs": [],
   "source": [
    "''''\n",
    "Find courses that student could enroll in this term !BUT! IT does NOT check ALL conditions of  prerequisite\n",
    "################\n",
    "'''\n",
    "def find_by_term(new_term):\n",
    "   if student_info['plan'] == 2:\n",
    "      test ='''SELECT prerequisite.course_id FROM prerequisite ,course,default_course_plan\n",
    "               WHERE prerequisite.precourse_id IN {0}\n",
    "               AND  prerequisite.course_id =course.id\n",
    "               AND course.term_2=1 \n",
    "               AND  prerequisite.course_id =default_course_plan.course_id\n",
    "               AND default_course_plan.plan_id={1}\n",
    "               AND prerequisite.course_id IN\n",
    "      \t\t   (SELECT default_course_category.course_id  FROM default_course_category WHERE default_course_category.category_id IN (3,4,5,6,7,10))'''.format(new_term,student_info['plan'])\n",
    "   elif student_info['plan'] == 1:\n",
    "      test ='''SELECT prerequisite.course_id FROM prerequisite ,course,default_course_plan\n",
    "               WHERE prerequisite.precourse_id IN {0}\n",
    "               AND  prerequisite.course_id =course.id\n",
    "               AND course.term_1=1 \n",
    "               AND  prerequisite.course_id =default_course_plan.course_id\n",
    "               AND default_course_plan.plan_id={1}\n",
    "               AND prerequisite.course_id IN\n",
    "      \t\t   (SELECT default_course_category.course_id  FROM default_course_category WHERE default_course_category.category_id IN (3,4,5,6,7,10))'''.format(new_term,student_info['plan'])\n",
    "   mycursor.execute(test)\n",
    "   result = mycursor.fetchall()\n",
    "   studied_pre = datatotuple(result)\n",
    "   return studied_pre"
   ]
  },
  {
   "cell_type": "code",
   "execution_count": 58,
   "metadata": {},
   "outputs": [],
   "source": [
    "''''\n",
    "อยู่ครงงนี้ครับที่ผมทำไม่ได้\n",
    "################\n",
    "'''\n",
    "resultend=[]\n",
    "count1=0\n",
    "def findGroup(CourseID,all_studied):\n",
    "    \n",
    "    for i in CourseID:\n",
    "        \n",
    "        finder = '''select  precourse_id, pregroup_id, inclusion_type FROM prerequisite ,prerequisite_group WHERE course_id = {0}\n",
    "                    AND prerequisite.pregroup_id = prerequisite_group.id order by pregroup_id '''.format(i)\n",
    "        mycursor.execute(finder)\n",
    "        result = mycursor.fetchall()\n",
    "        if len(result)!=0:\n",
    "            count1=0\n",
    "            while count1!=len(result):\n",
    "             \n",
    "                if result[count1][2]==\"any\":\n",
    "                    if result[count1][0] in all_studied:\n",
    "                        resultend.append(i)\n",
    "                        count1+=1\n",
    "                        print(resultend)\n",
    "                    else:\n",
    "                        count1+=1\n",
    "                        continue\n",
    "        \n",
    "    return resultend\n",
    "    "
   ]
  },
  {
   "cell_type": "code",
   "execution_count": 68,
   "metadata": {},
   "outputs": [
    {
     "data": {
      "text/plain": [
       "1"
      ]
     },
     "execution_count": 68,
     "metadata": {},
     "output_type": "execute_result"
    }
   ],
   "source": [
    "GE_COUNT='''SELECT COUNT(*) FROM `enrollment` WHERE student_id=%s AND category_id=1\n",
    "''' #counting GE\n",
    "mycursor.execute(GE_COUNT,(student_id,))\n",
    "GE_result = mycursor.fetchall()\n",
    "GE=GE_result[0][0]\n",
    "if GE >2:\n",
    "    FE = FE+(GE-2)\n",
    "    GE = 2\n"
   ]
  },
  {
   "cell_type": "code",
   "execution_count": 4,
   "metadata": {},
   "outputs": [],
   "source": [
    "FE_COUNT='''SELECT COUNT(*)  FROM `enrollment` WHERE student_id=%s AND category_id=2\n",
    "''' #counting FE\n",
    "mycursor.execute(FE_COUNT,(student_id,))\n",
    "FE_result = mycursor.fetchall()\n",
    "FE=FE_result[0][0]"
   ]
  },
  {
   "cell_type": "markdown",
   "metadata": {},
   "source": [
    "Utility Function"
   ]
  },
  {
   "cell_type": "code",
   "execution_count": 15,
   "metadata": {},
   "outputs": [],
   "source": [
    "''''\n",
    "Utility Function\n",
    "################\n",
    "'''\n",
    "def datatotuple(data):\n",
    "    result = []\n",
    "    for i in data:\n",
    "        tmp = i[0]\n",
    "        result.append(tmp)\n",
    "    return tuple(result)"
   ]
  },
  {
   "cell_type": "code",
   "execution_count": null,
   "metadata": {},
   "outputs": [],
   "source": []
  }
 ],
 "metadata": {
  "kernelspec": {
   "display_name": "Python 3.7.8 64-bit",
   "language": "python",
   "name": "python3"
  },
  "language_info": {
   "codemirror_mode": {
    "name": "ipython",
    "version": 3
   },
   "file_extension": ".py",
   "mimetype": "text/x-python",
   "name": "python",
   "nbconvert_exporter": "python",
   "pygments_lexer": "ipython3",
   "version": "3.7.8"
  },
  "orig_nbformat": 4,
  "vscode": {
   "interpreter": {
    "hash": "a23257344542c70b70a498512f46db94a3a7f44d371a6893c689768adca66338"
   }
  }
 },
 "nbformat": 4,
 "nbformat_minor": 2
}
